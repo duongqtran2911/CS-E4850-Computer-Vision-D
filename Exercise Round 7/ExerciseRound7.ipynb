{
 "cells": [
  {
   "cell_type": "code",
   "execution_count": 1,
   "metadata": {},
   "outputs": [
    {
     "data": {
      "text/html": [
       "<script>\n",
       "code_show=true;\n",
       "function code_toggle() {\n",
       "if (code_show){\n",
       "$('div.input').hide();\n",
       "} else {\n",
       "$('div.input').show();\n",
       "}\n",
       "code_show = !code_show\n",
       "}\n",
       "$( document ).ready(code_toggle);\n",
       "</script>\n",
       "<form action=\"javascript:code_toggle()\"><input type=\"submit\" value=\"Click here to toggle on/off the raw code.\"></form>"
      ],
      "text/plain": [
       "<IPython.core.display.HTML object>"
      ]
     },
     "execution_count": 1,
     "metadata": {},
     "output_type": "execute_result"
    }
   ],
   "source": [
    "# This cell is used for creating a button that hides/unhides code cells to quickly look only the results.\n",
    "# Works only with Jupyter Notebooks.\n",
    "\n",
    "import os\n",
    "from IPython.display import HTML\n",
    "\n",
    "HTML('''<script>\n",
    "code_show=true;\n",
    "function code_toggle() {\n",
    "if (code_show){\n",
    "$('div.input').hide();\n",
    "} else {\n",
    "$('div.input').show();\n",
    "}\n",
    "code_show = !code_show\n",
    "}\n",
    "$( document ).ready(code_toggle);\n",
    "</script>\n",
    "<form action=\"javascript:code_toggle()\"><input type=\"submit\" value=\"Click here to toggle on/off the raw code.\"></form>''')"
   ]
  },
  {
   "cell_type": "code",
   "execution_count": 2,
   "metadata": {},
   "outputs": [
    {
     "name": "stdout",
     "output_type": "stream",
     "text": [
      "The data directory is /coursedata\n",
      "Data stored in /coursedata/exercise-07-data\n"
     ]
    }
   ],
   "source": [
    "# Description:\n",
    "#   Exercise7 notebook.\n",
    "#\n",
    "# Copyright (C) 2018 Santiago Cortes, Juha Ylioinas\n",
    "#\n",
    "# This software is distributed under the GNU General Public \n",
    "# Licence (version 2 or later); please refer to the file \n",
    "# Licence.txt, included with the software, for details.\n",
    "\n",
    "# Preparations\n",
    "import numpy as np\n",
    "\n",
    "# Select data directory\n",
    "if os.path.isdir('/coursedata'):\n",
    "    # JupyterHub\n",
    "    course_data_dir = '/coursedata'\n",
    "elif os.path.isdir('../../../coursedata'):\n",
    "    # Local installation\n",
    "    course_data_dir = '../../../coursedata'\n",
    "else:\n",
    "    # Docker\n",
    "    course_data_dir = '/home/jovyan/work/coursedata/'\n",
    "\n",
    "print('The data directory is %s' % course_data_dir)\n",
    "data_dir = os.path.join(course_data_dir, 'exercise-07-data')\n",
    "print('Data stored in %s' % data_dir)"
   ]
  },
  {
   "cell_type": "markdown",
   "metadata": {},
   "source": [
    "# CS-E4850 Computer Vision Exercise Round 7\n",
    "The problems should be solved before the exercise session and solutions returned via\n",
    "MyCourses. <br><br> For this exercise round, upload this notebook(pdf and .ipynb versions) containing your source codes (for Exercise 1) and your answer to the question of Exercise2, and all the answers to the questions of Exercise 3 (VGG practical), see part[1-3].ipynb. Note that it's not necessary to upload part1.ipynb, part2.ipynb or part3.ipynb, because all of the necessary questions related to them are contained in this notebook and you're not expected to do any coding in Exercises 2 and 3."
   ]
  },
  {
   "cell_type": "markdown",
   "metadata": {},
   "source": [
    "## Exercise 1 - Comparing  bags-of-words  with  tf-idf  weighting\n",
    "Assume  that  we  have  an  indexed  collection  of  documents  containing  the  five  terms  of the following table where the second row indicates the percentage of documents in which each term appears.<br>\n",
    "\n",
    "| term | cat | dog |mammals | mouse | pet |\n",
    "| --- | :---: | :---: | :---: | :---: | :---: |\n",
    "| **% of documents** | 5 | 20 | 2 | 10 | 60 |\n",
    "\n",
    "Now, given the query $Q=\\{mouse, cat, pet, mammals\\}$, compute the similarity between $Q$ and the following example documents $D1$, $D2$, $D3$, by using the cosine similarity measure and tf-idf weights (i.e. term frequency - inverse document frequency) for the bag-of-words histogram representations of the documents and the query.\n",
    "\n",
    "-  $D1$ = Cat is a pet, dog is a pet, and mouse may be a pet too.\n",
    "-  $D2$ = Cat, dog and mouse are all mammals.\n",
    "-  $D3$ = Cat and dog get along well, but cat may eat a mouse.\n",
    "\n",
    "Ignore other words except the five terms. You may proceed with the following steps:\n",
    "\n",
    "a) Compute and report the inverse document frequency (idf) for each of the five terms. Use the logarithm with base 2. (idf is the logarithm on slide 69 of Lecture 6.)<br>\n",
    "b) Compute the term frequencies for the query and each document. <br>\n",
    "c) Form the tf-idf weighted word occurrence histograms for the query and documents. <br>\n",
    "d) Evaluate the cosine similarity between the query and each document (i.e.\\ normalized scalar product between the weighted occurrence histograms as shown on slide 45).<br> \n",
    "e) Report the relative ranking of the documents. (You should get similarities 0.95, 0.64, and 0.63, but you need to determine which corresponds to which document.)<br>"
   ]
  },
  {
   "cell_type": "markdown",
   "metadata": {},
   "source": [
    "### a)\n",
    "\n",
    "Inverse document frequency formula:\n",
    "$$\\text{idf} = \\log_2 \\frac{N}{n_i} = \\log_2 \\frac{\\text{Total number of documents in database}}{\\text{Numbers of documents in database that word i appears in}}$$\n"
   ]
  },
  {
   "cell_type": "code",
   "execution_count": 3,
   "metadata": {},
   "outputs": [
    {
     "name": "stdout",
     "output_type": "stream",
     "text": [
      "Inverse document frequency of term 'cat': 4.321928094887363\n",
      "Inverse document frequency of term 'dog': 2.321928094887362\n",
      "Inverse document frequency of term 'mammals': 5.643856189774724\n",
      "Inverse document frequency of term 'mouse': 3.321928094887362\n",
      "Inverse document frequency of term 'pet': 0.7369655941662062\n"
     ]
    }
   ],
   "source": [
    "## Comparing  bags-of-words  with  tf-idf  weighting\n",
    "##--your-code-starts-here--##\n",
    "\n",
    "idf = {}\n",
    "doc_percentage = {\"cat\": 0.05, \"dog\": 0.2, \"mammals\": 0.02, \"mouse\": 0.1, \"pet\": 0.6}\n",
    "for term in doc_percentage:\n",
    "    idf[term] = np.log2(1/doc_percentage[term])\n",
    "# print(idf)\n",
    "for term in idf:\n",
    "    print(f\"Inverse document frequency of term '{term}': {idf[term]}\")\n",
    "\n",
    "##--your-code-ends-here--##"
   ]
  },
  {
   "cell_type": "markdown",
   "metadata": {},
   "source": [
    "### b)\n",
    "\n",
    "Term frequency formula:\n",
    "$$\\text{tf} = \\frac{n_{id}}{n_d} = \\frac{\\text{Number of occurrences of word i in document d}}{\\text{Number of words in document d}}$$"
   ]
  },
  {
   "cell_type": "code",
   "execution_count": 4,
   "metadata": {},
   "outputs": [
    {
     "name": "stdout",
     "output_type": "stream",
     "text": [
      "Term frequency for Q: \n",
      "{'cat': 0.25, 'dog': 0.0, 'mammals': 0.25, 'mouse': 0.25, 'pet': 0.25}\n",
      "\n",
      "Term frequency for D1: \n",
      "{'cat': 0.16666666666666666, 'dog': 0.16666666666666666, 'mammals': 0.0, 'mouse': 0.16666666666666666, 'pet': 0.5}\n",
      "\n",
      "Term frequency for D2: \n",
      "{'cat': 0.25, 'dog': 0.25, 'mammals': 0.25, 'mouse': 0.25, 'pet': 0.0}\n",
      "\n",
      "Term frequency for D3: \n",
      "{'cat': 0.5, 'dog': 0.25, 'mammals': 0.0, 'mouse': 0.25, 'pet': 0.0}\n",
      "\n"
     ]
    }
   ],
   "source": [
    "## Comparing  bags-of-words  with  tf-idf  weighting\n",
    "##--your-code-starts-here--##\n",
    "import string\n",
    "\n",
    "terms = [\"cat\", \"dog\", \"mammals\", \"mouse\", \"pet\"]\n",
    "\n",
    "Q = \"{mouse, cat, pet, mammals}\"\n",
    "D1 = \"Cat is a pet, dog is a pet, and mouse may be a pet too.\"\n",
    "D2 = \"Cat, dog and mouse are all mammals.\"\n",
    "D3 = \"Cat and dog get along well, but cat may eat a mouse.\"\n",
    "\n",
    "Q = Q.lower().translate(str.maketrans('', '', string.punctuation))\n",
    "D1 = D1.lower().translate(str.maketrans('', '', string.punctuation))\n",
    "D2 = D2.lower().translate(str.maketrans('', '', string.punctuation))\n",
    "D3 = D3.lower().translate(str.maketrans('', '', string.punctuation))\n",
    "\n",
    "def count_term(term, document):\n",
    "    count = 0\n",
    "    for word in document:\n",
    "        if word == term:\n",
    "            count+=1\n",
    "    return count\n",
    "    \n",
    "def tf(terms, doc):\n",
    "    split_doc = doc.split()\n",
    "    doc_words = []\n",
    "    for word in split_doc:\n",
    "        if word in terms:\n",
    "            doc_words.append(word)\n",
    "    tf = {}\n",
    "    n_d = len(doc_words)\n",
    "    for term in terms:\n",
    "        n_id = count_term(term, doc_words)\n",
    "        tf[term] = n_id/n_d\n",
    "    return tf\n",
    "\n",
    "documents = [Q, D1, D2, D3]\n",
    "documents_name = [\"Q\", \"D1\", \"D2\", \"D3\"]\n",
    "for i in range(len(documents)):\n",
    "    print(f\"Term frequency for {documents_name[i]}: \")\n",
    "    print(tf(terms, documents[i]))\n",
    "    print()\n",
    "\n",
    "##--your-code-ends-here--##"
   ]
  },
  {
   "cell_type": "markdown",
   "metadata": {},
   "source": [
    "### c)\n",
    "\n",
    "Term frequency - inverse document frequency formula:\n",
    "$$t_i = \\text{tf} \\times \\text{idf} = \\frac{n_{id}}{n_d} \\log_2 \\frac{N}{n_i}$$"
   ]
  },
  {
   "cell_type": "code",
   "execution_count": 5,
   "metadata": {},
   "outputs": [
    {
     "data": {
      "text/plain": [
       "Text(0.5, 1.0, 'tf-idf value for D3')"
      ]
     },
     "execution_count": 5,
     "metadata": {},
     "output_type": "execute_result"
    },
    {
     "data": {
      "image/png": "[encoded data removed]",
      "text/plain": [
       "<Figure size 864x864 with 4 Axes>"
      ]
     },
     "metadata": {
      "needs_background": "light"
     },
     "output_type": "display_data"
    }
   ],
   "source": [
    "##Comparing  bags-of-words  with  tf-idf  weighting\n",
    "##--your-code-starts-here--##\n",
    "import matplotlib.pyplot as plt\n",
    "\n",
    "documents_tf = {}\n",
    "for i in range(len(documents)):\n",
    "    documents_tf[documents_name[i]] = tf(terms, documents[i])\n",
    "# print(documents_tf)\n",
    "    \n",
    "def tf_idf(tf, idf):\n",
    "    tf_idf = {}\n",
    "    for term in tf:\n",
    "        tf_idf[term] = tf[term] * idf[term]\n",
    "    return tf_idf\n",
    "\n",
    "documents_tf_idf = {}\n",
    "for doc in documents_name:\n",
    "    documents_tf_idf[doc] = tf_idf(documents_tf[doc], idf)\n",
    "# print(documents_tf_idf)\n",
    "    \n",
    "fig, axes = plt.subplots(figsize=(12,12), ncols=2, nrows=2)\n",
    "\n",
    "for i in range(4):\n",
    "    length = len(terms)\n",
    "axes[0][0].bar(range(length), list(documents_tf_idf[\"Q\"].values()), tick_label = terms)\n",
    "axes[0][0].set_title(\"tf-idf value for Q\")\n",
    "axes[0][1].bar(range(length), list(documents_tf_idf[\"D1\"].values()), tick_label = terms)\n",
    "axes[0][1].set_title(\"tf-idf value for D1\")\n",
    "axes[1][0].bar(range(length), list(documents_tf_idf[\"D2\"].values()), tick_label = terms)\n",
    "axes[1][0].set_title(\"tf-idf value for D2\")\n",
    "axes[1][1].bar(range(length), list(documents_tf_idf[\"D3\"].values()), tick_label = terms)\n",
    "axes[1][1].set_title(\"tf-idf value for D3\")\n",
    "\n",
    "##--your-code-ends-here--##"
   ]
  },
  {
   "cell_type": "markdown",
   "metadata": {},
   "source": [
    "### d)\n",
    "\n",
    "Cosine similarity formula:\n",
    "$$\\text{sim}(d_j, q) = \\frac{\\langle d_j, q\\rangle}{\\lVert{d_j}\\rVert \\lVert{q}\\rVert} $$"
   ]
  },
  {
   "cell_type": "code",
   "execution_count": 6,
   "metadata": {},
   "outputs": [
    {
     "name": "stdout",
     "output_type": "stream",
     "text": [
      "Cosine similarity between Q and D1:\n",
      "0.6288846426378089\n",
      "Cosine similarity between Q and D2:\n",
      "0.9546948111493487\n",
      "Cosine similarity between Q and D3:\n",
      "0.6431937393302419\n"
     ]
    }
   ],
   "source": [
    "## Comparing  bags-of-words  with  tf-idf  weighting\n",
    "##--your-code-starts-here--##\n",
    "import math\n",
    "\n",
    "def sim(que, doc):\n",
    "    num = 0\n",
    "    for word in que:\n",
    "        num += doc[word] * que[word]\n",
    "    det1 = 0\n",
    "    det2 = 0\n",
    "    for value in doc.values():\n",
    "        det1 += value**2\n",
    "    for value in que.values():\n",
    "        det2 += value**2\n",
    "    den = math.sqrt(det1) * math.sqrt(det2)\n",
    "    return num/den\n",
    "\n",
    "print(\"Cosine similarity between Q and D1:\")\n",
    "print(sim(documents_tf_idf['Q'], documents_tf_idf['D1']))\n",
    "\n",
    "print(\"Cosine similarity between Q and D2:\")\n",
    "print(sim(documents_tf_idf['Q'], documents_tf_idf['D2']))\n",
    "\n",
    "print(\"Cosine similarity between Q and D3:\")\n",
    "print(sim(documents_tf_idf['Q'], documents_tf_idf['D3']))\n",
    "##--your-code-ends-here--##"
   ]
  },
  {
   "cell_type": "markdown",
   "metadata": {},
   "source": [
    "### e)\n",
    "\n",
    "Ranking of the documents based on similarities to query Q:\n",
    "* Rank 1: D2 with approximate similarity 0.95\n",
    "* Rank 2: D3 with approximate similarity 0.64\n",
    "* Rank 3: D1 with approximate similarity 0.63"
   ]
  },
  {
   "cell_type": "markdown",
   "metadata": {},
   "source": [
    "## Exercise 2 - Precision  and  recall\n",
    "There is a database of 10000 images and a user, who is only interested in images which contain a car. It is known that there are 500 such images in the database. An  automatic image retrieval system retrieves 300 car images and 50 other images from the database. Determine and report the precision and recall of the retrieval  system in this particularcase."
   ]
  },
  {
   "cell_type": "markdown",
   "metadata": {},
   "source": [
    "Type your answer here:\n",
    "\n",
    "* Relevant: 300\n",
    "* Returned: 300 + 50 = 350\n",
    "* Total relevant: 500\n",
    "\n",
    "Therefore, we can calculate the precision and recall of the retrieval system:\n",
    "\n",
    "$$ \\text{Precision} = \\frac{\\text{relevant}}{\\text{returned}} = \\frac{300}{350} = 0.86 $$\n",
    "\n",
    "$$ \\text{Recall} = \\frac{\\text{relevant}}{\\text{total relevant}} = \\frac{300}{500} = 0.6 $$\n"
   ]
  },
  {
   "cell_type": "markdown",
   "metadata": {},
   "source": [
    "## Exercise 3 - VGG practical on object instance recognition\n",
    "See the questions in part[1-3].ipynb and write your answers here.\n",
    "\n",
    "Part1:\n",
    "Stage I.A (two questions)\n",
    "Stage I.B (two questions)\n",
    "Stage I.C (one question)\n",
    "\n",
    "Part2 (one question)\n",
    "\n",
    "Part3:\n",
    "Stage III.A (three questions)\n",
    "Stage III.B (one question)\n",
    "Stage III.C (two questions)"
   ]
  },
  {
   "cell_type": "markdown",
   "metadata": {},
   "source": [
    "Type your answers here:\n",
    "\n",
    "### Part 1\n",
    "\n",
    "#### Stage I.A\n",
    "\n",
    "##### 1. \n",
    "The reason for the change in density of detections across the image most probably lies in the presence of a shaded section of the building in the lower left corner as well as the brightly illuminated part on the right side, while the original rotated version is quite uniformly lighted.\n",
    "\n",
    "To detect the key features, we used the SIFT method, which works by measuring rapid local changes by a filter to get detections that are usually above a pre-defined threshold. Due to this method, it can be seen that there seem to be fewer detections obtained from the flat regions like the sky or the shaded region compared to the lighted regions with clearer edges and corners. However, this may not be a big problem for matching, since the key features are still detected pretty clearly. To avoid this situation, some solutions could be modifying the nearest neighbor searching algorithm i.e. the k-d tree algorithm, or adjusting the threshold for deciding detections.\n",
    "\n",
    "##### 2. \n",
    "This situation can happen with image structures that have very few corners and edges or that are non-planar, since the projection of objects on 2D makes it difficult to determine real 3D points.\n",
    "\n",
    "\n",
    "#### Stage I.B\n",
    "\n",
    "##### 1. \n",
    "The descriptors are computed over a much larger region than the detection since the orientation histogram is calculated from a large neighborhood region around the key point. In the example, it seems like the neighborhood region is 16x16, dividing into samples of 4x4 regions.\n",
    "\n",
    "##### 2. \n",
    "It seems that changing the lighting not a problem since SIFT is generally robust to changes in illumination, noise, or minor viewpoint changes. Some additional constraints to remove the mismatches may include the modification of the k-d tree algorithm for searching neighbors using best-bin-first search or Lowe's second nearest neighbor test.\n",
    "\n",
    "\n",
    "#### Stage I.C\n",
    "\n",
    "#####  1.\n",
    "The Lowe algorithm rejects all matches with distance ratio larger than 0.8, therefore eliminates 90% of false matches and only throws 5% of correct matches. To remove the remaining mismatches, we can use the RANSAC algorithms, possibly with some modifications.\n",
    "\n",
    "### Part 2\n",
    "\n",
    "##### 1. \n",
    "The descriptors on these detections were calculated and matched by a process of detecting key features, fitting an affine transformation on neighboring regions, and checking SIFT matches by the transformation matrices previously. The descriptors undergo an affine transformation, which is presented by the ellipse-shaped regions on the images, so it can help detect matchings even in planer homography.\n",
    "\n",
    "### Part 3\n",
    "\n",
    "#### Stage III.A\n",
    "\n",
    "##### 1.\n",
    "From experimenting, it seems that significantly increasing or decreasing the vocabulary size does not greatly affect the returned matches by the descriptors, and the number of inliers also slightly changes accordingly. Overall, it seems that the size does not have a signigicant effect on the number of inliers and therefore the difficulty of computing the transformation.\n",
    "\n",
    "##### 2.\n",
    "The reason is that the conversion of descriptors into visual words has been pre-computed, so it is not accounted for as query time. \n",
    "\n",
    "##### 3.\n",
    "It seems that the speed up time is proportional to the size of the database, it is reasonable to theorize the speedup is on some exponential or logarithmic scale.  \n",
    "\n",
    "\n",
    "#### Stage III.B\n",
    "\n",
    "##### 1.\n",
    "There seems to be 25 mismatched images from the top results. The top image have a score of almost 1, probably because it was the same as the image used for querying the images (not a perfect 1 score because of Python implementation as explained in the notebook). \n",
    "\n",
    "#### Stage III.C\n",
    "\n",
    "##### 1.\n",
    "\n",
    "The score is much larger than 1 since the score is now the number of inlier matches.\n",
    "\n",
    "##### 2. \n",
    "\n",
    "The retrieval results are improved quite clearly after geometric verification."
   ]
  }
 ],
 "metadata": {
  "kernelspec": {
   "display_name": "Python 3",
   "language": "python",
   "name": "python3"
  },
  "language_info": {
   "codemirror_mode": {
    "name": "ipython",
    "version": 3
   },
   "file_extension": ".py",
   "mimetype": "text/x-python",
   "name": "python",
   "nbconvert_exporter": "python",
   "pygments_lexer": "ipython3",
   "version": "3.7.8"
  },
  "varInspector": {
   "cols": {
    "lenName": 16,
    "lenType": 16,
    "lenVar": 40
   },
   "kernels_config": {
    "python": {
     "delete_cmd_postfix": "",
     "delete_cmd_prefix": "del ",
     "library": "var_list.py",
     "varRefreshCmd": "print(var_dic_list())"
    },
    "r": {
     "delete_cmd_postfix": ") ",
     "delete_cmd_prefix": "rm(",
     "library": "var_list.r",
     "varRefreshCmd": "cat(var_dic_list()) "
    }
   },
   "types_to_exclude": [
    "module",
    "function",
    "builtin_function_or_method",
    "instance",
    "_Feature"
   ],
   "window_display": false
  }
 },
 "nbformat": 4,
 "nbformat_minor": 4
}
